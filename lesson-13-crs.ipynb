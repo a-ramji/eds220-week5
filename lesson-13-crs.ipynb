{
 "cells": [
  {
   "cell_type": "markdown",
   "id": "863a3d23-d1ae-4682-b005-9d7728270b69",
   "metadata": {},
   "source": [
    "# 13  Coordinate Reference Systems"
   ]
  },
  {
   "cell_type": "markdown",
   "id": "34d31a1c-5cd1-4882-921c-3e6beadd23c8",
   "metadata": {},
   "source": [
    "## Setting CRS on `.csv`"
   ]
  },
  {
   "cell_type": "code",
   "execution_count": null,
   "id": "8d0b4131-a21e-4aa1-8d5c-3fa43495e47c",
   "metadata": {},
   "outputs": [],
   "source": []
  }
 ],
 "metadata": {
  "kernelspec": {
   "display_name": "Anaconda 3 (Base)",
   "language": "python",
   "name": "base"
  },
  "language_info": {
   "codemirror_mode": {
    "name": "ipython",
    "version": 3
   },
   "file_extension": ".py",
   "mimetype": "text/x-python",
   "name": "python",
   "nbconvert_exporter": "python",
   "pygments_lexer": "ipython3",
   "version": "3.9.13"
  }
 },
 "nbformat": 4,
 "nbformat_minor": 5
}
