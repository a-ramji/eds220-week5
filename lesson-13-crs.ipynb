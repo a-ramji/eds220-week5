{
 "cells": [
  {
   "cell_type": "markdown",
   "id": "087fe7c5-d27b-4b59-8dd3-ce2dfcd65acf",
   "metadata": {},
   "source": [
    "CRS\n"
   ]
  },
  {
   "cell_type": "markdown",
   "id": "863a3d23-d1ae-4682-b005-9d7728270b69",
   "metadata": {},
   "source": []
  }
 ],
 "metadata": {
  "kernelspec": {
   "display_name": "Anaconda 3 (Base)",
   "language": "python",
   "name": "base"
  },
  "language_info": {
   "codemirror_mode": {
    "name": "ipython",
    "version": 3
   },
   "file_extension": ".py",
   "mimetype": "text/x-python",
   "name": "python",
   "nbconvert_exporter": "python",
   "pygments_lexer": "ipython3",
   "version": "3.9.13"
  }
 },
 "nbformat": 4,
 "nbformat_minor": 5
}
