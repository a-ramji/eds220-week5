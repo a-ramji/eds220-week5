{
 "cells": [
  {
   "cell_type": "markdown",
   "id": "863a3d23-d1ae-4682-b005-9d7728270b69",
   "metadata": {},
   "source": [
    "# 13  Coordinate Reference Systems"
   ]
  },
  {
   "cell_type": "markdown",
   "id": "34d31a1c-5cd1-4882-921c-3e6beadd23c8",
   "metadata": {},
   "source": [
    "## Setting CRS on `.csv`"
   ]
  },
  {
   "cell_type": "markdown",
   "id": "48e8a026-6747-41fa-827d-9563d7972dfb",
   "metadata": {},
   "source": [
    "## Dataset 1:\n",
    "\n",
    "From the US Energy Information Administration (EIA).\n",
    "\n",
    "Info about current operable electric power plants in the US by energy source\n",
    "\n",
    "\n",
    "## Dataset 2:\n",
    "TIGER shapefiles\n",
    "From the US Census Bureau depicting state boundaries"
   ]
  },
  {
   "cell_type": "code",
   "execution_count": 1,
   "id": "3655ac5b-1109-448a-ae01-f6545d3c9507",
   "metadata": {
    "tags": []
   },
   "outputs": [],
   "source": [
    "# import necessary libraries\n",
    "import geopandas as gpd\n",
    "import pandas as pd\n",
    "import matplotlib as plt\n",
    "\n",
    "# update pandas display option\n",
    "pd.set_option(\"display.max.columns\", None)"
   ]
  },
  {
   "cell_type": "markdown",
   "id": "f531c4e4-00fc-4e36-bad6-77346bcd7c52",
   "metadata": {},
   "source": [
    "We want to make a geopandas geodataframe from our csv data."
   ]
  },
  {
   "cell_type": "code",
   "execution_count": 2,
   "id": "248d8e2a-4730-4a53-8b8e-c6325812005b",
   "metadata": {
    "tags": []
   },
   "outputs": [],
   "source": [
    "# import csv data using pandas\n",
    "\n",
    "power_plants = pd.read_csv('data/power_plants_epsg4269.csv')"
   ]
  },
  {
   "cell_type": "code",
   "execution_count": null,
   "id": "0c112a90-7064-458c-8e74-6b950e2996a1",
   "metadata": {},
   "outputs": [],
   "source": []
  }
 ],
 "metadata": {
  "kernelspec": {
   "display_name": "Anaconda 3 (Base)",
   "language": "python",
   "name": "base"
  },
  "language_info": {
   "codemirror_mode": {
    "name": "ipython",
    "version": 3
   },
   "file_extension": ".py",
   "mimetype": "text/x-python",
   "name": "python",
   "nbconvert_exporter": "python",
   "pygments_lexer": "ipython3",
   "version": "3.9.13"
  }
 },
 "nbformat": 4,
 "nbformat_minor": 5
}
