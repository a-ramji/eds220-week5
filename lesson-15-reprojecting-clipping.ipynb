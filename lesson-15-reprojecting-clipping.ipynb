{
 "cells": [
  {
   "cell_type": "markdown",
   "id": "95421669-31ad-495c-95fa-f4081bf2224f",
   "metadata": {},
   "source": [
    "# Reprojecting and Clipping\n",
    "\n",
    "we will learn:\n",
    "- how to change the CRS of a gpd.GeoDataFrame\n",
    "- how to clip different geometries using a polygon\n",
    "\n",
    "## Data\n",
    "\n",
    "1st dataset: TIGER shapefiles for US states and equivalent\n",
    "\n",
    "2nd dataset: Natural Earth's simple medium scale populated places\n",
    "\n",
    "3rd dataset: Natural Earth's road dataset (no North America supplement)"
   ]
  },
  {
   "cell_type": "code",
   "execution_count": 3,
   "id": "d4fd3c0e-fefe-4617-9320-99dbb141cbcc",
   "metadata": {
    "tags": []
   },
   "outputs": [],
   "source": [
    "# setup\n",
    "# import whole library\n",
    "import geopandas as gpd\n",
    "import pandas as pd\n",
    "# import module from a library\n",
    "import matplotlib.pyplot as plt\n",
    "\n",
    "# new syntax!\n",
    "# import single function from a module\n",
    "from shapely.geometry import box"
   ]
  },
  {
   "cell_type": "code",
   "execution_count": 4,
   "id": "6ed622e7-3317-4017-9c52-e1dae37701b4",
   "metadata": {
    "tags": []
   },
   "outputs": [],
   "source": [
    "# set display option\n",
    "\n",
    "pd.set_option(\"display.max.columns\", None)"
   ]
  },
  {
   "cell_type": "markdown",
   "id": "6b7bd29d-ed6f-4750-a0a3-2108a5f2ca22",
   "metadata": {},
   "source": [
    "## Import data"
   ]
  },
  {
   "cell_type": "code",
   "execution_count": 8,
   "id": "2258c69e-0111-458e-b28e-1f90250a210a",
   "metadata": {
    "tags": []
   },
   "outputs": [],
   "source": [
    "# import states from US Census\n",
    "\n",
    "states = gpd.read_file('data/tl_2022_us_state/tl_2022_us_state.shp')\n",
    "\n",
    "# cleaning columns\n",
    "states.columns = states.columns.str.lower()"
   ]
  },
  {
   "cell_type": "code",
   "execution_count": 6,
   "id": "9c0e8739-128c-41b7-a428-bf98cac7800c",
   "metadata": {
    "tags": []
   },
   "outputs": [],
   "source": [
    "# populated places from Natural Earth\n",
    "\n",
    "places = gpd.read_file('data/ne_50m_populated_places_simple/ne_50m_populated_places_simple.shp')"
   ]
  },
  {
   "cell_type": "code",
   "execution_count": 7,
   "id": "836c6ff6-ab8c-40d9-a4e6-0ed8eaf64c02",
   "metadata": {
    "tags": []
   },
   "outputs": [],
   "source": [
    "# roads from Natural Eart\n",
    "\n",
    "roads = gpd.read_file('data/ne_10m_roads/ne_10m_roads.shp')"
   ]
  },
  {
   "cell_type": "code",
   "execution_count": null,
   "id": "3776a1c1-3426-4594-8bb8-6a39d8f3b9b4",
   "metadata": {},
   "outputs": [],
   "source": []
  }
 ],
 "metadata": {
  "kernelspec": {
   "display_name": "Anaconda 3 (Base)",
   "language": "python",
   "name": "base"
  },
  "language_info": {
   "codemirror_mode": {
    "name": "ipython",
    "version": 3
   },
   "file_extension": ".py",
   "mimetype": "text/x-python",
   "name": "python",
   "nbconvert_exporter": "python",
   "pygments_lexer": "ipython3",
   "version": "3.9.13"
  }
 },
 "nbformat": 4,
 "nbformat_minor": 5
}
